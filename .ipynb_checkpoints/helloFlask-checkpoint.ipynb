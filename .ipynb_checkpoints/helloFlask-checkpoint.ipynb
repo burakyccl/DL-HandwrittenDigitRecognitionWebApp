{
 "cells": [
  {
   "cell_type": "code",
   "execution_count": 3,
   "id": "functioning-archive",
   "metadata": {},
   "outputs": [],
   "source": [
    "from flask import Flask"
   ]
  },
  {
   "cell_type": "code",
   "execution_count": 4,
   "id": "trained-franchise",
   "metadata": {},
   "outputs": [],
   "source": [
    "app = Flask(__name__)"
   ]
  },
  {
   "cell_type": "code",
   "execution_count": 8,
   "id": "outstanding-bradford",
   "metadata": {},
   "outputs": [],
   "source": [
    "@app.route('/users/<string:username>')\n",
    "def hello_world(username=None):\n",
    "\n",
    "      return(\"Hello {}!\".format(username))"
   ]
  },
  {
   "cell_type": "code",
   "execution_count": null,
   "id": "elementary-aerospace",
   "metadata": {},
   "outputs": [],
   "source": []
  }
 ],
 "metadata": {
  "kernelspec": {
   "display_name": "Python 3",
   "language": "python",
   "name": "python3"
  },
  "language_info": {
   "codemirror_mode": {
    "name": "ipython",
    "version": 3
   },
   "file_extension": ".py",
   "mimetype": "text/x-python",
   "name": "python",
   "nbconvert_exporter": "python",
   "pygments_lexer": "ipython3",
   "version": "3.7.4"
  }
 },
 "nbformat": 4,
 "nbformat_minor": 5
}
