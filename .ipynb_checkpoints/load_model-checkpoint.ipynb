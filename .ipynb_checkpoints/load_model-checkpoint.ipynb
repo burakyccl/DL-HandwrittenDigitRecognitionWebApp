{
 "cells": [
  {
   "cell_type": "code",
   "execution_count": 18,
   "id": "polish-glucose",
   "metadata": {},
   "outputs": [],
   "source": [
    "from tensorflow.keras.models import load_model"
   ]
  },
  {
   "cell_type": "code",
   "execution_count": 19,
   "id": "standard-biology",
   "metadata": {},
   "outputs": [],
   "source": [
    "import tensorflow as tf"
   ]
  },
  {
   "cell_type": "code",
   "execution_count": 20,
   "id": "extra-glucose",
   "metadata": {},
   "outputs": [],
   "source": [
    "import numpy as np"
   ]
  },
  {
   "cell_type": "code",
   "execution_count": 21,
   "id": "multiple-georgia",
   "metadata": {},
   "outputs": [],
   "source": [
    "loaded_model = load_model('my_model')"
   ]
  },
  {
   "cell_type": "code",
   "execution_count": 22,
   "id": "quality-mills",
   "metadata": {},
   "outputs": [],
   "source": [
    "import cv2"
   ]
  },
  {
   "cell_type": "code",
   "execution_count": 23,
   "id": "quantitative-fitness",
   "metadata": {},
   "outputs": [],
   "source": [
    "img = cv2.imread('image.png')"
   ]
  },
  {
   "cell_type": "code",
   "execution_count": 24,
   "id": "canadian-expansion",
   "metadata": {},
   "outputs": [],
   "source": [
    "img = cv2.bitwise_not(img)"
   ]
  },
  {
   "cell_type": "code",
   "execution_count": 25,
   "id": "double-three",
   "metadata": {},
   "outputs": [],
   "source": [
    "gray = cv2.cvtColor(img, cv2.COLOR_BGR2GRAY)"
   ]
  },
  {
   "cell_type": "code",
   "execution_count": 26,
   "id": "soviet-representation",
   "metadata": {},
   "outputs": [],
   "source": [
    "resized = cv2.resize(gray, (28,28),interpolation = cv2.INTER_AREA)"
   ]
  },
  {
   "cell_type": "code",
   "execution_count": 27,
   "id": "spoken-quarter",
   "metadata": {},
   "outputs": [],
   "source": [
    "newimg = tf.keras.utils.normalize (resized, axis = 1)"
   ]
  },
  {
   "cell_type": "code",
   "execution_count": 28,
   "id": "valuable-width",
   "metadata": {},
   "outputs": [],
   "source": [
    "newimg= np.array(newimg).reshape(-1, 28, 28, 1)"
   ]
  },
  {
   "cell_type": "code",
   "execution_count": 30,
   "id": "headed-strategy",
   "metadata": {},
   "outputs": [],
   "source": [
    "predictions = loaded_model.predict(newimg)"
   ]
  },
  {
   "cell_type": "code",
   "execution_count": 31,
   "id": "concrete-password",
   "metadata": {},
   "outputs": [
    {
     "name": "stdout",
     "output_type": "stream",
     "text": [
      "3\n"
     ]
    }
   ],
   "source": [
    "print (np.argmax(predictions))"
   ]
  }
 ],
 "metadata": {
  "kernelspec": {
   "display_name": "Python 3",
   "language": "python",
   "name": "python3"
  },
  "language_info": {
   "codemirror_mode": {
    "name": "ipython",
    "version": 3
   },
   "file_extension": ".py",
   "mimetype": "text/x-python",
   "name": "python",
   "nbconvert_exporter": "python",
   "pygments_lexer": "ipython3",
   "version": "3.7.4"
  }
 },
 "nbformat": 4,
 "nbformat_minor": 5
}
