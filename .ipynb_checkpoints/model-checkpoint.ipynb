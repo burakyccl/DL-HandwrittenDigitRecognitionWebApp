{
 "cells": [
  {
   "cell_type": "code",
   "execution_count": 1,
   "id": "passive-scoop",
   "metadata": {},
   "outputs": [],
   "source": [
    "import tensorflow as tf # pip install tensorflow"
   ]
  },
  {
   "cell_type": "code",
   "execution_count": 2,
   "id": "boxed-syndication",
   "metadata": {},
   "outputs": [],
   "source": [
    "mnist = tf.keras.datasets.mnist"
   ]
  },
  {
   "cell_type": "code",
   "execution_count": 3,
   "id": "nasty-pension",
   "metadata": {},
   "outputs": [],
   "source": [
    "(x_train, y_train),(x_test, y_test) = mnist.load_data()"
   ]
  },
  {
   "cell_type": "code",
   "execution_count": 4,
   "id": "clear-paraguay",
   "metadata": {},
   "outputs": [
    {
     "data": {
      "text/plain": [
       "(60000, 28, 28)"
      ]
     },
     "execution_count": 4,
     "metadata": {},
     "output_type": "execute_result"
    }
   ],
   "source": [
    "x_train.shape"
   ]
  },
  {
   "cell_type": "code",
   "execution_count": 5,
   "id": "optical-acting",
   "metadata": {},
   "outputs": [],
   "source": [
    "import matplotlib.pyplot as plt"
   ]
  },
  {
   "cell_type": "code",
   "execution_count": 8,
   "id": "opened-newspaper",
   "metadata": {
    "scrolled": true
   },
   "outputs": [
    {
     "data": {
      "text/plain": [
       "<matplotlib.image.AxesImage at 0x21a1e48a308>"
      ]
     },
     "execution_count": 8,
     "metadata": {},
     "output_type": "execute_result"
    },
    {
     "data": {
      "image/png": "[encoded data removed]",
      "text/plain": [
       "<Figure size 432x288 with 1 Axes>"
      ]
     },
     "metadata": {
      "needs_background": "light"
     },
     "output_type": "display_data"
    }
   ],
   "source": [
    "x_train = tf.keras.utils.normalize (x_train, axis = 1)\n",
    "x_test = tf.keras.utils.normalize(x_test, axis=1)"
   ]
  },
  {
   "cell_type": "code",
   "execution_count": 9,
   "id": "sticky-heritage",
   "metadata": {},
   "outputs": [
    {
     "name": "stdout",
     "output_type": "stream",
     "text": [
      "Training Samples dimension (60000, 28, 28, 1)\n",
      "Testing Samples dimension (10000, 28, 28, 1)\n"
     ]
    }
   ],
   "source": [
    "import numpy as np # pip install numpy\n",
    "IMG_SIZE=28\n",
    "x_trainr= np.array(x_train).reshape(-1, IMG_SIZE, IMG_SIZE,1)\n",
    "x_testr= np.array(x_test).reshape (-1, IMG_SIZE, IMG_SIZE,1)\n",
    "print (\"Training Samples dimension\",x_trainr.shape)\n",
    "print (\"Testing Samples dimension\",x_testr.shape)"
   ]
  },
  {
   "cell_type": "code",
   "execution_count": 10,
   "id": "wicked-dollar",
   "metadata": {},
   "outputs": [],
   "source": [
    "from tensorflow.keras.models import Sequential\n",
    "from tensorflow.keras.layers import Dense, Dropout, Activation, Flatten, Conv2D, MaxPooling2D"
   ]
  },
  {
   "cell_type": "code",
   "execution_count": 11,
   "id": "experienced-offer",
   "metadata": {},
   "outputs": [],
   "source": [
    "#### Creating a neural network now\n",
    "model = Sequential ()\n",
    "##### First Convolution Layer e 1 2 3\n",
    "model.add(Conv2D(64, (3,3), input_shape = x_trainr.shape[1:])) ### only for first convolution layer to mention input layer size\n",
    "model.add (Activation(\"relu\"))## activation funtion to make it non-linear, <e, remove, >0\n",
    "model.add (MaxPooling2D(pool_size=(2,2)))\n",
    "model.add (Conv2D(64, (3,3))) ## 2nd Convolution Layer\n",
    "model.add(Activation(\"relu\")) ## activation funtion\n",
    "model.add(MaxPooling2D(pool_size=(2,2)))## MAxpooling\n",
    "##### 3rd Convolution Layer\n",
    "model.add (Conv2D(64, (3,3))) # 24*24\n",
    "model.add (Activation(\"relu\"))\n",
    "model.add (MaxPooling2D(pool_size=(2,2)))\n",
    "#### FuLly Connected Layer # 1 20x20= 400\n",
    "model.add (Flatten()) ### before using fully connected Layer, need to be flatten so that 2D to 1D\n",
    "model.add (Dense (64)) #\n",
    "model.add (Activation(\"relu\"))\n",
    "#### FuLly Connected Layer # 2\n",
    "model.add (Dense(32))\n",
    "model.add(Activation(\"relu\"))\n",
    "#### Last Fully Connected Layer , output must be equal to number of classes, 10 (0-9)\n",
    "model.add (Dense(10)) ## this Last dense Layer must be equal to 10\n",
    "model.add (Activation('softmax')) ### activation function is changed to Softmax (Class probabilites )"
   ]
  },
  {
   "cell_type": "code",
   "execution_count": 12,
   "id": "serious-vatican",
   "metadata": {},
   "outputs": [],
   "source": [
    "model.compile(loss =\"sparse_categorical_crossentropy\", optimizer =\"adam\", metrics=['accuracy'])"
   ]
  },
  {
   "cell_type": "code",
   "execution_count": 13,
   "id": "insured-village",
   "metadata": {},
   "outputs": [
    {
     "name": "stdout",
     "output_type": "stream",
     "text": [
      "Epoch 1/5\n",
      "1313/1313 [==============================] - 38s 29ms/step - loss: 0.6785 - accuracy: 0.7741 - val_loss: 0.1209 - val_accuracy: 0.9624\n",
      "Epoch 2/5\n",
      "1313/1313 [==============================] - 45s 34ms/step - loss: 0.1040 - accuracy: 0.9677 - val_loss: 0.0879 - val_accuracy: 0.9724\n",
      "Epoch 3/5\n",
      "1313/1313 [==============================] - 30s 23ms/step - loss: 0.0700 - accuracy: 0.9782 - val_loss: 0.0664 - val_accuracy: 0.9792\n",
      "Epoch 4/5\n",
      "1313/1313 [==============================] - 32s 25ms/step - loss: 0.0536 - accuracy: 0.9828 - val_loss: 0.0630 - val_accuracy: 0.9816\n",
      "Epoch 5/5\n",
      "1313/1313 [==============================] - 34s 26ms/step - loss: 0.0393 - accuracy: 0.9875 - val_loss: 0.0586 - val_accuracy: 0.9830\n"
     ]
    },
    {
     "data": {
      "text/plain": [
       "<tensorflow.python.keras.callbacks.History at 0x21a190a6548>"
      ]
     },
     "execution_count": 13,
     "metadata": {},
     "output_type": "execute_result"
    }
   ],
   "source": [
    "model.fit(x_trainr,y_train, epochs=5, validation_split = 0.3) ## Training my model"
   ]
  },
  {
   "cell_type": "code",
   "execution_count": 14,
   "id": "surface-utilization",
   "metadata": {},
   "outputs": [
    {
     "name": "stdout",
     "output_type": "stream",
     "text": [
      "313/313 [==============================] - 1s 5ms/step - loss: 0.0543 - accuracy: 0.9836\n",
      "Test Loss on 10,000 test samples 0.05432405322790146\n",
      "Validation Accuracy on 10,000 test samples 0.9836000204086304\n"
     ]
    }
   ],
   "source": [
    "test_loss, test_acc = model.evaluate(x_testr, y_test)\n",
    "print (\"Test Loss on 10,000 test samples\",test_loss )\n",
    "print (\"Validation Accuracy on 10,000 test samples\",test_acc )"
   ]
  }
 ],
 "metadata": {
  "kernelspec": {
   "display_name": "Python 3",
   "language": "python",
   "name": "python3"
  },
  "language_info": {
   "codemirror_mode": {
    "name": "ipython",
    "version": 3
   },
   "file_extension": ".py",
   "mimetype": "text/x-python",
   "name": "python",
   "nbconvert_exporter": "python",
   "pygments_lexer": "ipython3",
   "version": "3.7.4"
  }
 },
 "nbformat": 4,
 "nbformat_minor": 5
}
